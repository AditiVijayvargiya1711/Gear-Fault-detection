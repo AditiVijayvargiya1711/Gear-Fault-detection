{
 "cells": [
  {
   "cell_type": "code",
   "execution_count": 58,
   "id": "cf47b255",
   "metadata": {},
   "outputs": [],
   "source": [
    "# multi-class classification with Keras\n",
    "import pandas\n",
    "import numpy as np\n",
    "from keras.models import Sequential\n",
    "from keras.layers import Dense\n",
    "from keras.wrappers.scikit_learn import KerasClassifier\n",
    "from keras.utils import np_utils\n",
    "from sklearn.model_selection import cross_val_score\n",
    "from sklearn.model_selection import KFold\n",
    "from sklearn.preprocessing import LabelEncoder\n",
    "from sklearn.pipeline import Pipeline"
   ]
  },
  {
   "cell_type": "code",
   "execution_count": 84,
   "id": "61b47613-8816-436f-8db4-bdccbefd2431",
   "metadata": {},
   "outputs": [
    {
     "data": {
      "text/html": [
       "<div>\n",
       "<style scoped>\n",
       "    .dataframe tbody tr th:only-of-type {\n",
       "        vertical-align: middle;\n",
       "    }\n",
       "\n",
       "    .dataframe tbody tr th {\n",
       "        vertical-align: top;\n",
       "    }\n",
       "\n",
       "    .dataframe thead th {\n",
       "        text-align: right;\n",
       "    }\n",
       "</style>\n",
       "<table border=\"1\" class=\"dataframe\">\n",
       "  <thead>\n",
       "    <tr style=\"text-align: right;\">\n",
       "      <th></th>\n",
       "      <th>RMS</th>\n",
       "      <th>Crest_factor</th>\n",
       "      <th>Kurtosis</th>\n",
       "      <th>Standard_Deviation</th>\n",
       "      <th>Label</th>\n",
       "    </tr>\n",
       "  </thead>\n",
       "  <tbody>\n",
       "    <tr>\n",
       "      <th>0</th>\n",
       "      <td>0.187225</td>\n",
       "      <td>4.886918</td>\n",
       "      <td>4.024185</td>\n",
       "      <td>0.187240</td>\n",
       "      <td>C1</td>\n",
       "    </tr>\n",
       "    <tr>\n",
       "      <th>1</th>\n",
       "      <td>0.171226</td>\n",
       "      <td>5.693860</td>\n",
       "      <td>4.409202</td>\n",
       "      <td>0.171239</td>\n",
       "      <td>C1</td>\n",
       "    </tr>\n",
       "    <tr>\n",
       "      <th>2</th>\n",
       "      <td>0.189137</td>\n",
       "      <td>5.643351</td>\n",
       "      <td>5.077067</td>\n",
       "      <td>0.189152</td>\n",
       "      <td>C1</td>\n",
       "    </tr>\n",
       "    <tr>\n",
       "      <th>3</th>\n",
       "      <td>0.189435</td>\n",
       "      <td>6.646050</td>\n",
       "      <td>5.345039</td>\n",
       "      <td>0.189449</td>\n",
       "      <td>C1</td>\n",
       "    </tr>\n",
       "    <tr>\n",
       "      <th>4</th>\n",
       "      <td>0.202397</td>\n",
       "      <td>7.563921</td>\n",
       "      <td>6.365882</td>\n",
       "      <td>0.202412</td>\n",
       "      <td>C1</td>\n",
       "    </tr>\n",
       "    <tr>\n",
       "      <th>...</th>\n",
       "      <td>...</td>\n",
       "      <td>...</td>\n",
       "      <td>...</td>\n",
       "      <td>...</td>\n",
       "      <td>...</td>\n",
       "    </tr>\n",
       "    <tr>\n",
       "      <th>7995</th>\n",
       "      <td>0.030333</td>\n",
       "      <td>10.860104</td>\n",
       "      <td>7.308769</td>\n",
       "      <td>0.030336</td>\n",
       "      <td>C0</td>\n",
       "    </tr>\n",
       "    <tr>\n",
       "      <th>7996</th>\n",
       "      <td>0.041194</td>\n",
       "      <td>12.189303</td>\n",
       "      <td>16.107614</td>\n",
       "      <td>0.041197</td>\n",
       "      <td>C0</td>\n",
       "    </tr>\n",
       "    <tr>\n",
       "      <th>7997</th>\n",
       "      <td>0.049760</td>\n",
       "      <td>14.597865</td>\n",
       "      <td>32.637704</td>\n",
       "      <td>0.049764</td>\n",
       "      <td>C0</td>\n",
       "    </tr>\n",
       "    <tr>\n",
       "      <th>7998</th>\n",
       "      <td>0.062941</td>\n",
       "      <td>17.900079</td>\n",
       "      <td>35.452820</td>\n",
       "      <td>0.062946</td>\n",
       "      <td>C0</td>\n",
       "    </tr>\n",
       "    <tr>\n",
       "      <th>7999</th>\n",
       "      <td>0.081252</td>\n",
       "      <td>13.180157</td>\n",
       "      <td>28.794352</td>\n",
       "      <td>0.081258</td>\n",
       "      <td>C0</td>\n",
       "    </tr>\n",
       "  </tbody>\n",
       "</table>\n",
       "<p>8000 rows × 5 columns</p>\n",
       "</div>"
      ],
      "text/plain": [
       "           RMS  Crest_factor   Kurtosis  Standard_Deviation Label\n",
       "0     0.187225      4.886918   4.024185            0.187240    C1\n",
       "1     0.171226      5.693860   4.409202            0.171239    C1\n",
       "2     0.189137      5.643351   5.077067            0.189152    C1\n",
       "3     0.189435      6.646050   5.345039            0.189449    C1\n",
       "4     0.202397      7.563921   6.365882            0.202412    C1\n",
       "...        ...           ...        ...                 ...   ...\n",
       "7995  0.030333     10.860104   7.308769            0.030336    C0\n",
       "7996  0.041194     12.189303  16.107614            0.041197    C0\n",
       "7997  0.049760     14.597865  32.637704            0.049764    C0\n",
       "7998  0.062941     17.900079  35.452820            0.062946    C0\n",
       "7999  0.081252     13.180157  28.794352            0.081258    C0\n",
       "\n",
       "[8000 rows x 5 columns]"
      ]
     },
     "execution_count": 84,
     "metadata": {},
     "output_type": "execute_result"
    }
   ],
   "source": [
    "df = pandas.read_csv(\"CI_labelled.csv\")\n",
    "df"
   ]
  },
  {
   "cell_type": "code",
   "execution_count": 132,
   "id": "ad137675",
   "metadata": {},
   "outputs": [],
   "source": [
    "win_len=100\n",
    "stride=10\n",
    "X=[]\n",
    "Y=[]\n",
    "for i in range(0,4):\n",
    "    df_temp = df[df['Label']=='C{}'.format(i)]\n",
    "    for j in np.arange(0,len(df_temp)-(win_len),stride):\n",
    "        X.append(df_temp.iloc[i:i+win_len,:-1])\n",
    "        Y.append(df_temp.iloc[i+win_len,-1])\n",
    "    \n",
    "X=np.array(X)\n",
    "X=X.reshape((X.shape[0],X.shape[1],X.shape[2],1))\n",
    "Y=np.array(Y)"
   ]
  },
  {
   "cell_type": "code",
   "execution_count": 133,
   "id": "facf7d0d-8956-4961-9ec2-919a0c3577ba",
   "metadata": {},
   "outputs": [
    {
     "data": {
      "text/plain": [
       "(760, 100, 4, 1)"
      ]
     },
     "execution_count": 133,
     "metadata": {},
     "output_type": "execute_result"
    }
   ],
   "source": [
    "X.shape"
   ]
  },
  {
   "cell_type": "code",
   "execution_count": 134,
   "id": "f356e744-14ec-477f-85e0-4bc2b8855665",
   "metadata": {},
   "outputs": [
    {
     "data": {
      "text/plain": [
       "(760,)"
      ]
     },
     "execution_count": 134,
     "metadata": {},
     "output_type": "execute_result"
    }
   ],
   "source": [
    "Y.shape"
   ]
  },
  {
   "cell_type": "code",
   "execution_count": 135,
   "id": "cc14741a",
   "metadata": {},
   "outputs": [],
   "source": [
    "# encode class values as integers\n",
    "encoder = LabelEncoder()\n",
    "encoder.fit(Y)\n",
    "encoded_Y = encoder.transform(Y)\n",
    "# convert integers to dummy variables (i.e. one hot encoded)\n",
    "dummy_y = np_utils.to_categorical(encoded_Y)"
   ]
  },
  {
   "cell_type": "code",
   "execution_count": 136,
   "id": "a805cb89-b44e-4730-a5e3-3a708a9b3bd4",
   "metadata": {},
   "outputs": [
    {
     "data": {
      "text/plain": [
       "array([[1., 0., 0., 0.],\n",
       "       [1., 0., 0., 0.],\n",
       "       [1., 0., 0., 0.],\n",
       "       ...,\n",
       "       [0., 0., 0., 1.],\n",
       "       [0., 0., 0., 1.],\n",
       "       [0., 0., 0., 1.]], dtype=float32)"
      ]
     },
     "execution_count": 136,
     "metadata": {},
     "output_type": "execute_result"
    }
   ],
   "source": [
    "dummy_y"
   ]
  },
  {
   "cell_type": "code",
   "execution_count": 137,
   "id": "e00f0756-3531-463e-a7d7-619dce954fe3",
   "metadata": {},
   "outputs": [],
   "source": [
    "from sklearn.model_selection import train_test_split\n",
    "X_train, X_test, Y_train, Y_test = train_test_split(X, dummy_y, test_size=0.33,shuffle=True)"
   ]
  },
  {
   "cell_type": "code",
   "execution_count": 151,
   "id": "b36fcb57",
   "metadata": {},
   "outputs": [
    {
     "name": "stdout",
     "output_type": "stream",
     "text": [
      "Model: \"sequential_33\"\n",
      "_________________________________________________________________\n",
      " Layer (type)                Output Shape              Param #   \n",
      "=================================================================\n",
      " conv2d_23 (Conv2D)          (None, 100, 4, 32)        1952      \n",
      "                                                                 \n",
      " max_pooling2d_23 (MaxPoolin  (None, 20, 1, 32)        0         \n",
      " g2D)                                                            \n",
      "                                                                 \n",
      " conv2d_24 (Conv2D)          (None, 20, 1, 64)         61504     \n",
      "                                                                 \n",
      " max_pooling2d_24 (MaxPoolin  (None, 7, 1, 64)         0         \n",
      " g2D)                                                            \n",
      "                                                                 \n",
      " flatten_12 (Flatten)        (None, 448)               0         \n",
      "                                                                 \n",
      " dense_62 (Dense)            (None, 128)               57472     \n",
      "                                                                 \n",
      " dense_63 (Dense)            (None, 4)                 516       \n",
      "                                                                 \n",
      "=================================================================\n",
      "Total params: 121,444\n",
      "Trainable params: 121,444\n",
      "Non-trainable params: 0\n",
      "_________________________________________________________________\n"
     ]
    }
   ],
   "source": [
    "from tensorflow.keras.layers import Input\n",
    "from tensorflow.keras.models import Model\n",
    "from tensorflow.keras.layers import Conv2D, MaxPooling2D\n",
    "from tensorflow.keras.layers import Dense, Dropout, Flatten\n",
    "# create model\n",
    "cnn_model = Sequential()\n",
    "cnn_model.add(Conv2D(32, kernel_size=(20, 3),activation='relu',input_shape=(X.shape[1],X.shape[2],1),padding='same'))\n",
    "cnn_model.add(MaxPooling2D((20, 2),strides=(5, 5),padding='same'))\n",
    "cnn_model.add(Conv2D(64, (10, 3), activation='relu',padding='same'))\n",
    "cnn_model.add(MaxPooling2D(pool_size=(10, 2),strides=(3, 3),padding='same'))\n",
    "cnn_model.add(Flatten())\n",
    "cnn_model.add(Dense(128, activation='relu'))\n",
    "cnn_model.add(Dense(4, activation='softmax'))\n",
    "cnn_model.summary()\n",
    "cnn_model.compile(loss=\"categorical_crossentropy\", optimizer='adam', metrics=['accuracy'])"
   ]
  },
  {
   "cell_type": "code",
   "execution_count": 153,
   "id": "cc6217aa",
   "metadata": {},
   "outputs": [
    {
     "name": "stdout",
     "output_type": "stream",
     "text": [
      "Epoch 1/5\n",
      "4/4 [==============================] - 0s 43ms/step - loss: 0.5630 - accuracy: 0.7544 - val_loss: 0.4895 - val_accuracy: 0.7410\n",
      "Epoch 2/5\n",
      "4/4 [==============================] - 0s 33ms/step - loss: 0.4128 - accuracy: 0.9332 - val_loss: 0.3540 - val_accuracy: 1.0000\n",
      "Epoch 3/5\n",
      "4/4 [==============================] - 0s 33ms/step - loss: 0.3007 - accuracy: 1.0000 - val_loss: 0.2360 - val_accuracy: 1.0000\n",
      "Epoch 4/5\n",
      "4/4 [==============================] - 0s 33ms/step - loss: 0.2009 - accuracy: 1.0000 - val_loss: 0.1567 - val_accuracy: 1.0000\n",
      "Epoch 5/5\n",
      "4/4 [==============================] - 0s 32ms/step - loss: 0.1268 - accuracy: 1.0000 - val_loss: 0.0907 - val_accuracy: 1.0000\n"
     ]
    }
   ],
   "source": [
    "epochs = 5\n",
    "batch_size=128\n",
    "history = cnn_model.fit(X_train, Y_train, batch_size=batch_size,epochs=epochs,verbose=1,validation_data=(X_test,Y_test),shuffle=True)"
   ]
  },
  {
   "cell_type": "code",
   "execution_count": 158,
   "id": "588af574-e598-463c-8e01-1b407ba9e1f2",
   "metadata": {},
   "outputs": [
    {
     "name": "stdout",
     "output_type": "stream",
     "text": [
      "8/8 [==============================] - 0s 4ms/step\n"
     ]
    },
    {
     "data": {
      "text/plain": [
       "array([[3.1761345e-03, 7.9342583e-04, 6.4797525e-05, 9.9596560e-01],\n",
       "       [3.1761345e-03, 7.9342583e-04, 6.4797525e-05, 9.9596560e-01],\n",
       "       [2.9195590e-02, 5.0529964e-02, 9.1647220e-01, 3.8021633e-03],\n",
       "       ...,\n",
       "       [9.3103069e-01, 4.2658668e-02, 1.9109691e-02, 7.2009130e-03],\n",
       "       [9.3103069e-01, 4.2658668e-02, 1.9109691e-02, 7.2009130e-03],\n",
       "       [9.3103069e-01, 4.2658668e-02, 1.9109691e-02, 7.2009130e-03]],\n",
       "      dtype=float32)"
      ]
     },
     "execution_count": 158,
     "metadata": {},
     "output_type": "execute_result"
    }
   ],
   "source": [
    "y_pred=cnn_model.predict(X_test)\n",
    "y_pred"
   ]
  },
  {
   "cell_type": "code",
   "execution_count": null,
   "id": "a2a496ab-a702-45c9-9553-e51c27464598",
   "metadata": {},
   "outputs": [],
   "source": []
  }
 ],
 "metadata": {
  "kernelspec": {
   "display_name": "Python 3 (ipykernel)",
   "language": "python",
   "name": "python3"
  },
  "language_info": {
   "codemirror_mode": {
    "name": "ipython",
    "version": 3
   },
   "file_extension": ".py",
   "mimetype": "text/x-python",
   "name": "python",
   "nbconvert_exporter": "python",
   "pygments_lexer": "ipython3",
   "version": "3.10.13"
  }
 },
 "nbformat": 4,
 "nbformat_minor": 5
}
